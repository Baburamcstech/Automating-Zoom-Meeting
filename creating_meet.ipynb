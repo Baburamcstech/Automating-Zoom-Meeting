{
 "cells": [
  {
   "cell_type": "code",
   "execution_count": 54,
   "id": "f856535b",
   "metadata": {},
   "outputs": [],
   "source": [
    "import imaplib\n",
    "import clipboard\n",
    "import email\n",
    "import pandas as pd\n",
    "import pyautogui\n",
    "import re\n",
    "import time\n",
    "import smtplib\n",
    "import yaml\n",
    "from email.mime.text import MIMEText"
   ]
  },
  {
   "cell_type": "code",
   "execution_count": null,
   "id": "2de54f7a",
   "metadata": {},
   "outputs": [],
   "source": [
    "with open(\"credentials.yml\") as f:\n",
    "    content = f.read()\n",
    "    \n",
    "# from credentials.yml import user name and password\n",
    "my_credentials = yaml.load(content, Loader=yaml.FullLoader)\n"
   ]
  },
  {
   "cell_type": "markdown",
   "id": "acee002b",
   "metadata": {},
   "source": [
    "### Zoom meeting creating\n"
   ]
  },
  {
   "cell_type": "code",
   "execution_count": 58,
   "id": "5cab2a3f",
   "metadata": {},
   "outputs": [
    {
     "name": "stdout",
     "output_type": "stream",
     "text": [
      "<class 'str'>\n",
      "Baburam Yadav is inviting you to a scheduled Zoom meeting.\r\n",
      "\r\n",
      "Topic: Talk on RPA\r\n",
      "Time: Jun 25, 2023 12:40 PM India\r\n",
      "\r\n",
      "Join Zoom Meeting\r\n",
      "https://us05web.zoom.us/j/83664193626?pwd=S2ZFTDRYUHBHWDlNc3dOQzJqYmxiUT09\r\n",
      "\r\n",
      "Meeting ID: 836 6419 3626\r\n",
      "Passcode: 9iU7s4\r\n",
      "\r\n",
      "\n"
     ]
    }
   ],
   "source": [
    "import pyautogui\n",
    "import time\n",
    "pyautogui.press('win')  # Press the Windows key\n",
    "time.sleep(2)\n",
    "pyautogui.typewrite('zoom') # Type 'notepad' to search for the Notepad application\n",
    "\n",
    "time.sleep(2)\n",
    "pyautogui.press('enter')  # Press Enter to open Notepad\n",
    "time.sleep(2)  # Wait for Notepad to open\n",
    "\n",
    "# clicking for scheduling\n",
    "button7location = pyautogui.locateOnScreen('schedule.png') # returns (left, top, width, height) of matching region\n",
    "button7location \n",
    "pyautogui.click(pyautogui.moveTo(button7location))\n",
    "time.sleep(6)\n",
    "# writting data\n",
    "topic=res[\"topic\"]\n",
    "host=res[\"host\"]\n",
    "start_time=res[\"time\"]\n",
    "end_time=''\n",
    "\n",
    "person_name=\"share\"\n",
    "def type_slowly(word):\n",
    "    for character in word:\n",
    "        pyautogui.write(character)\n",
    "        time.sleep(0.1)\n",
    "\n",
    "        \n",
    "type_slowly(topic)\n",
    "\n",
    "pyautogui.press('tab')\n",
    "pyautogui.press('tab')\n",
    "type_slowly(host)\n",
    "time.sleep(1)\n",
    "\n",
    "pyautogui.press('tab')\n",
    "pyautogui.press('enter')\n",
    "pyautogui.press('tab')\n",
    "pyautogui.press('tab')\n",
    "\n",
    "# type_slowly(start_date)\n",
    "pyautogui.press('tab')\n",
    "# pyautogui.press('tab')\n",
    "\n",
    "type_slowly(start_time)\n",
    "time.sleep(1)\n",
    "pyautogui.press('tab')\n",
    "\n",
    "\n",
    "# type_slowly(end_time)\n",
    "time.sleep(1)\n",
    "pyautogui.press('tab')\n",
    "\n",
    "\n",
    "# type_slowly(end_time)\n",
    "# pyautogui.press('tab')\n",
    "# pyautogui.press('tab')\n",
    "\n",
    "# after end_date\n",
    "pyautogui.press('tab')\n",
    "pyautogui.press('tab')\n",
    "time.sleep(1)\n",
    "pyautogui.press('tab')\n",
    "pyautogui.press('enter')\n",
    "time.sleep(1)\n",
    "\n",
    "# after generative\n",
    "pyautogui.press('tab')\n",
    "# type_slowly(passcode)\n",
    "time.sleep(1)\n",
    "pyautogui.press('tab')\n",
    "pyautogui.press('tab')\n",
    "time.sleep(1)\n",
    "pyautogui.press('tab')\n",
    "pyautogui.press('tab')\n",
    "time.sleep(1)\n",
    "pyautogui.press('tab')\n",
    "pyautogui.press('enter')\n",
    "\n",
    "button7location = pyautogui.locateOnScreen('save.png') # returns (left, top, width, height) of matching region\n",
    "button7location \n",
    "pyautogui.click(pyautogui.moveTo(button7location))\n",
    "\n",
    "time.sleep(2)\n",
    "button7location = pyautogui.locateOnScreen('copy_link.png') # returns (left, top, width, height) of matching region\n",
    "button7location \n",
    "pyautogui.click(pyautogui.moveTo(button7location))\n",
    "pyautogui.hotkey('alt', 'f4')\n",
    "pyautogui.hotkey('alt', 'f4')\n",
    "pyautogui.hotkey('ctrl', 'v')\n",
    "link =clipboard.paste()\n",
    "print(type(link))\n",
    "print(link)\n"
   ]
  },
  {
   "cell_type": "markdown",
   "id": "b9559089",
   "metadata": {},
   "source": [
    "### Code for sending mail"
   ]
  },
  {
   "cell_type": "code",
   "execution_count": 59,
   "id": "7e4c1023",
   "metadata": {},
   "outputs": [
    {
     "name": "stdout",
     "output_type": "stream",
     "text": [
      "message sent successfully\n"
     ]
    }
   ],
   "source": [
    "\n",
    "\n",
    "# Create a MIME text object with the email content\n",
    "message = MIMEText(link)\n",
    "\n",
    "# Set the sender and recipient addresses\n",
    "FROM = my_credentials[\"user\"]\n",
    "message[\"From\"] = FROM\n",
    "message[\"To\"] = my_credentials[\"to\"]\n",
    "message[\"Subject\"] = \"Zoom meeting\"\n",
    "\n",
    "# Connect to the SMTP server\n",
    "smtp_server = \"smtp.gmail.com\"\n",
    "smtp_port = 587\n",
    "smtp_password = my_credentials[\"password\"]\n",
    "\n",
    "with smtplib.SMTP(smtp_server, smtp_port) as server:\n",
    "    # Start the secure connection if using TLS\n",
    "    server.starttls()\n",
    "\n",
    "    # Login to the SMTP server if authentication is required\n",
    "    server.login(FROM, smtp_password)\n",
    "\n",
    "    # Send the email\n",
    "    server.send_message(message)\n",
    "\n",
    "    # Close the connection\n",
    "    print(\"message sent successfully\")\n",
    "    server.quit()\n"
   ]
  }
 ],
 "metadata": {
  "kernelspec": {
   "display_name": "Python 3 (ipykernel)",
   "language": "python",
   "name": "python3"
  },
  "language_info": {
   "codemirror_mode": {
    "name": "ipython",
    "version": 3
   },
   "file_extension": ".py",
   "mimetype": "text/x-python",
   "name": "python",
   "nbconvert_exporter": "python",
   "pygments_lexer": "ipython3",
   "version": "3.9.13"
  }
 },
 "nbformat": 4,
 "nbformat_minor": 5
}
