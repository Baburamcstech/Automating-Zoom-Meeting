{
 "cells": [
  {
   "cell_type": "code",
   "execution_count": 1,
   "id": "f856535b",
   "metadata": {},
   "outputs": [],
   "source": [
    "import imaplib\n",
    "import clipboard\n",
    "import email\n",
    "import pandas as pd\n",
    "import pyautogui\n",
    "import re\n",
    "import time\n",
    "import smtplib\n",
    "import yaml\n",
    "from email.mime.text import MIMEText"
   ]
  },
  {
   "cell_type": "code",
   "execution_count": 9,
   "id": "2de54f7a",
   "metadata": {},
   "outputs": [],
   "source": [
    "with open(\"credentials.yml\") as f:\n",
    "    content = f.read()\n",
    "    \n",
    "# from credentials.yml import user name and password\n",
    "my_credentials = yaml.load(content, Loader=yaml.FullLoader)\n"
   ]
  },
  {
   "cell_type": "markdown",
   "id": "4a81b3ba",
   "metadata": {},
   "source": [
    "### data extraction from gmail"
   ]
  },
  {
   "cell_type": "code",
   "execution_count": 15,
   "id": "fe4e6131",
   "metadata": {},
   "outputs": [],
   "source": [
    "ORG_EMAIL = \"@gmail.com\"\n",
    "FROM_EMAIL = my_credentials['user']\n",
    "FROM_PWD = my_credentials['password']\n",
    "SMTP_SERVER = \"imap.gmail.com\"\n",
    "SMTP_PORT = 993\n",
    "\n",
    "def read_email():\n",
    "\n",
    "    From=[]\n",
    "    Subject=[]\n",
    "    Body=[]\n",
    "    try:\n",
    "        mail = imaplib.IMAP4_SSL(SMTP_SERVER)\n",
    "        mail.login(FROM_EMAIL,FROM_PWD)\n",
    "        mail.select('inbox')\n",
    "\n",
    "        data = mail.search(None, 'ALL')\n",
    "        mail_ids = data[1]\n",
    "        id_list = mail_ids[0].split()\n",
    "        first_email_id = int(id_list[0])\n",
    "        latest_email_id = int(id_list[-1])\n",
    "\n",
    "        # reading top 5 emails\n",
    "        start = latest_email_id\n",
    "        end = latest_email_id - 5\n",
    "\n",
    "        for i in range(start,end, -1):\n",
    "            data = mail.fetch(str(i), '(RFC822)' )\n",
    "            for response_part in data:\n",
    "                arr = response_part[0]\n",
    "                if isinstance(arr, tuple):\n",
    "                    msg = email.message_from_string(str(arr[1],'utf-8'))\n",
    "                    email_subject = msg['subject']\n",
    "                    email_from = msg['from']\n",
    "                    # print('From : ' + email_from + '\\n')\n",
    "                    From.append(email_from)\n",
    "                    # print('Subject : ' + email_subject + '\\n')\n",
    "                    Subject.append(email_subject)\n",
    "                    if msg.is_multipart():\n",
    "                        # If the email has multiple parts, iterate over them\n",
    "                        for part in msg.walk():\n",
    "                            # Check if the content type is text/plain\n",
    "                            if part.get_content_type() == \"text/plain\":\n",
    "                                # Get the email body and print it\n",
    "                                email_body = part.get_payload(decode=True).decode()\n",
    "                                # print('Message : ' + email_body + '\\n')\n",
    "                                Body.append(email_body)\n",
    "                    else:\n",
    "                        # If the email is not multipart, directly access the body\n",
    "                        email_body = msg.get_payload(decode=True).decode()\n",
    "                        # print('Message : ' + email_body + '\\n')\n",
    "                        Body.append(email_body)\n",
    "\n",
    "    except Exception as e:\n",
    "        traceback.print_exc()\n",
    "        print(str(e))\n",
    "\n",
    "    return From,Subject,Body\n",
    "\n",
    "From,Subject,Body=read_email()\n"
   ]
  },
  {
   "cell_type": "code",
   "execution_count": 16,
   "id": "dd38a925",
   "metadata": {},
   "outputs": [
    {
     "data": {
      "text/plain": [
       "[0, 3]"
      ]
     },
     "execution_count": 16,
     "metadata": {},
     "output_type": "execute_result"
    }
   ],
   "source": [
    "Subject_pattern = r'(?i)\\b(?:meeting|conference|meet|talk|zoom meeting|zoom)\\b'\n",
    "ind =[]\n",
    "\n",
    "for i in range(0,len(Subject)):\n",
    "\n",
    "  matches = re.findall(Subject_pattern,Subject[i])\n",
    "  if(len(matches)>=1):\n",
    "    ind.append(i)\n",
    "\n",
    "ind"
   ]
  },
  {
   "cell_type": "code",
   "execution_count": 21,
   "id": "e422df82",
   "metadata": {},
   "outputs": [],
   "source": [
    "\n",
    "def extract_data_from_text(text):\n",
    "\n",
    "      # Extracting the topic\n",
    "      topic_match = re.search(r\"Topic - (.+)\", text)\n",
    "      topic = topic_match.group(1).strip() if topic_match else None\n",
    "\n",
    "      # Extracting the time\n",
    "      time_match = re.search(r\"Time - (.+)\", text)\n",
    "      time = time_match.group(1).strip() if time_match else None\n",
    "\n",
    "      # Extracting the type\n",
    "      type_match = re.search(r\"Type - (.+)\", text)\n",
    "      type = type_match.group(1).strip() if type_match else None\n",
    "\n",
    "      # Extracting the host\n",
    "      host_match = re.search(r\"Host - (.+)\", text)\n",
    "      host = host_match.group(1).strip() if host_match else None\n",
    "\n",
    "      # Extracting the date\n",
    "      date_match = re.search(r\"Date - (.+)\", text)\n",
    "      date = date_match.group(1).strip() if date_match else None\n",
    "\n",
    "\n",
    "      # extracted information\n",
    "      extracted_res={'topic':'','time':'','type':'','host':'','date':''}\n",
    "      extracted_res['topic']=topic\n",
    "      extracted_res['time']=time\n",
    "      extracted_res['type']=type\n",
    "      extracted_res['host']=host\n",
    "      extracted_res['date']=date\n",
    "\n",
    "      return extracted_res"
   ]
  },
  {
   "cell_type": "code",
   "execution_count": 22,
   "id": "474ac778",
   "metadata": {},
   "outputs": [
    {
     "data": {
      "text/plain": [
       "{'topic': 'RPA test final',\n",
       " 'time': '2:00pm',\n",
       " 'type': None,\n",
       " 'host': None,\n",
       " 'date': '2023-07-13'}"
      ]
     },
     "execution_count": 22,
     "metadata": {},
     "output_type": "execute_result"
    }
   ],
   "source": [
    "res = extract_data_from_text(Body[ind[0]])\n",
    "res"
   ]
  },
  {
   "cell_type": "code",
   "execution_count": 23,
   "id": "4cc17cd2",
   "metadata": {},
   "outputs": [],
   "source": [
    "def type_slowly(word):\n",
    "    for character in word:\n",
    "        pyautogui.write(character)\n",
    "        time.sleep(0.1)"
   ]
  },
  {
   "cell_type": "markdown",
   "id": "acee002b",
   "metadata": {},
   "source": [
    "### Zoom meeting creating\n"
   ]
  },
  {
   "cell_type": "code",
   "execution_count": 24,
   "id": "5cab2a3f",
   "metadata": {},
   "outputs": [
    {
     "name": "stdout",
     "output_type": "stream",
     "text": [
      "RPA test final\n",
      "sonupas2806@gmail.com\n"
     ]
    }
   ],
   "source": [
    "pyautogui.press('win')  # Press the Windows key\n",
    "time.sleep(2)\n",
    "pyautogui.typewrite('zoom') \n",
    "\n",
    "time.sleep(2)\n",
    "pyautogui.press('enter')  # Press Enter to open Zoom\n",
    "time.sleep(3)  # Wait for Zoom to open\n",
    "\n",
    "# writting data\n",
    "topic=res[\"topic\"]\n",
    "host=res[\"host\"]\n",
    "start_time=res[\"time\"]\n",
    "end_time=''\n",
    "button7location = pyautogui.locateOnScreen('schedule.png') # returns (left, top, width, height) of matching region\n",
    "time.sleep(3)\n",
    "pyautogui.click(pyautogui.moveTo(button7location))\n",
    "time.sleep(6) \n",
    "type_slowly(topic)\n",
    "pyautogui.press('tab')\n",
    "time.sleep(1)\n",
    "pyautogui.press('tab')\n",
    "time.sleep(2)\n",
    "pyautogui.press('tab')\n",
    "time.sleep(1)\n",
    "pyautogui.press('tab')\n",
    "type_slowly(start_time)\n",
    "# testing\n",
    "pyautogui.press('tab')\n",
    "time.sleep(1)\n",
    "pyautogui.press('tab')\n",
    "pyautogui.press('tab')\n",
    "time.sleep(1)\n",
    "pyautogui.press('tab')\n",
    "pyautogui.press('tab')\n",
    "time.sleep(1)\n",
    "pyautogui.press('tab')\n",
    "time.sleep(1)\n",
    "pyautogui.press('enter')\n",
    "# till here\n",
    "time.sleep(3)\n",
    "time.sleep(5)\n",
    "button7location = pyautogui.locateOnScreen('copy_link.png') # returns (left, top, width, height) of matching region\n",
    "time.sleep(2)\n",
    "pyautogui.click(pyautogui.moveTo(button7location))\n",
    "pyautogui.hotkey('alt', 'f4')\n",
    "pyautogui.hotkey('alt', 'f4')\n",
    "pyautogui.hotkey('ctrl', 'v')\n",
    "link =clipboard.paste()\n",
    "print(link)\n"
   ]
  },
  {
   "cell_type": "markdown",
   "id": "b9559089",
   "metadata": {},
   "source": [
    "### Code for sending mail"
   ]
  },
  {
   "cell_type": "code",
   "execution_count": 59,
   "id": "7e4c1023",
   "metadata": {},
   "outputs": [
    {
     "name": "stdout",
     "output_type": "stream",
     "text": [
      "message sent successfully\n"
     ]
    }
   ],
   "source": [
    "\n",
    "\n",
    "# Create a MIME text object with the email content\n",
    "message = MIMEText(link)\n",
    "\n",
    "# Set the sender and recipient addresses\n",
    "FROM = my_credentials[\"user\"]\n",
    "message[\"From\"] = FROM\n",
    "message[\"To\"] = my_credentials[\"to\"]\n",
    "message[\"Subject\"] = \"Zoom meeting\"\n",
    "\n",
    "# Connect to the SMTP server\n",
    "smtp_server = \"smtp.gmail.com\"\n",
    "smtp_port = 587\n",
    "smtp_password = my_credentials[\"password\"]\n",
    "\n",
    "with smtplib.SMTP(smtp_server, smtp_port) as server:\n",
    "    # Start the secure connection if using TLS\n",
    "    server.starttls()\n",
    "\n",
    "    # Login to the SMTP server if authentication is required\n",
    "    server.login(FROM, smtp_password)\n",
    "\n",
    "    # Send the email\n",
    "    server.send_message(message)\n",
    "\n",
    "    # Close the connection\n",
    "    print(\"message sent successfully\")\n",
    "    server.quit()\n"
   ]
  }
 ],
 "metadata": {
  "kernelspec": {
   "display_name": "Python 3 (ipykernel)",
   "language": "python",
   "name": "python3"
  },
  "language_info": {
   "codemirror_mode": {
    "name": "ipython",
    "version": 3
   },
   "file_extension": ".py",
   "mimetype": "text/x-python",
   "name": "python",
   "nbconvert_exporter": "python",
   "pygments_lexer": "ipython3",
   "version": "3.9.13"
  },
  "vscode": {
   "interpreter": {
    "hash": "b0617f6c30397c21376cd7196a4ed06326a952b3ab86430fe7b73c892ada3306"
   }
  }
 },
 "nbformat": 4,
 "nbformat_minor": 5
}
